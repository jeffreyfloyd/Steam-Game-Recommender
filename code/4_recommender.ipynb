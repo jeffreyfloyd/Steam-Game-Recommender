{
 "cells": [
  {
   "cell_type": "code",
   "execution_count": 1,
   "id": "cbea6d58-ba1a-4424-b9b3-81ccae57e1a1",
   "metadata": {},
   "outputs": [],
   "source": [
    "import pandas as pd\n",
    "import numpy as np\n",
    "from scipy import sparse\n",
    "from sklearn.metrics.pairwise import pairwise_distances, cosine_distances, cosine_similarity"
   ]
  },
  {
   "cell_type": "code",
   "execution_count": 2,
   "id": "9b0aa76a-3ce5-45fa-bc33-3118158ebde0",
   "metadata": {},
   "outputs": [
    {
     "name": "stdout",
     "output_type": "stream",
     "text": [
      "(56778, 473)\n"
     ]
    },
    {
     "data": {
      "text/html": [
       "<div>\n",
       "<style scoped>\n",
       "    .dataframe tbody tr th:only-of-type {\n",
       "        vertical-align: middle;\n",
       "    }\n",
       "\n",
       "    .dataframe tbody tr th {\n",
       "        vertical-align: top;\n",
       "    }\n",
       "\n",
       "    .dataframe thead th {\n",
       "        text-align: right;\n",
       "    }\n",
       "</style>\n",
       "<table border=\"1\" class=\"dataframe\">\n",
       "  <thead>\n",
       "    <tr style=\"text-align: right;\">\n",
       "      <th></th>\n",
       "      <th>appid</th>\n",
       "      <th>name</th>\n",
       "      <th>developer</th>\n",
       "      <th>publisher</th>\n",
       "      <th>positive</th>\n",
       "      <th>negative</th>\n",
       "      <th>userscore</th>\n",
       "      <th>owners</th>\n",
       "      <th>average_forever</th>\n",
       "      <th>average_2weeks</th>\n",
       "      <th>...</th>\n",
       "      <th>Web Publishing</th>\n",
       "      <th>Well-Written</th>\n",
       "      <th>Werewolves</th>\n",
       "      <th>Western</th>\n",
       "      <th>Word Game</th>\n",
       "      <th>World War I</th>\n",
       "      <th>World War II</th>\n",
       "      <th>Wrestling</th>\n",
       "      <th>Zombies</th>\n",
       "      <th>e-sports</th>\n",
       "    </tr>\n",
       "  </thead>\n",
       "  <tbody>\n",
       "    <tr>\n",
       "      <th>0</th>\n",
       "      <td>10</td>\n",
       "      <td>Counter-Strike</td>\n",
       "      <td>Valve</td>\n",
       "      <td>Valve</td>\n",
       "      <td>184296</td>\n",
       "      <td>4785</td>\n",
       "      <td>0</td>\n",
       "      <td>10,000,000 .. 20,000,000</td>\n",
       "      <td>11666</td>\n",
       "      <td>1107</td>\n",
       "      <td>...</td>\n",
       "      <td>0.0</td>\n",
       "      <td>0.0</td>\n",
       "      <td>0.0</td>\n",
       "      <td>0.0</td>\n",
       "      <td>0.0</td>\n",
       "      <td>0.000000</td>\n",
       "      <td>0.000000</td>\n",
       "      <td>0.0</td>\n",
       "      <td>0.0</td>\n",
       "      <td>0.217837</td>\n",
       "    </tr>\n",
       "    <tr>\n",
       "      <th>1</th>\n",
       "      <td>20</td>\n",
       "      <td>Team Fortress Classic</td>\n",
       "      <td>Valve</td>\n",
       "      <td>Valve</td>\n",
       "      <td>5232</td>\n",
       "      <td>873</td>\n",
       "      <td>0</td>\n",
       "      <td>2,000,000 .. 5,000,000</td>\n",
       "      <td>91</td>\n",
       "      <td>0</td>\n",
       "      <td>...</td>\n",
       "      <td>0.0</td>\n",
       "      <td>0.0</td>\n",
       "      <td>0.0</td>\n",
       "      <td>0.0</td>\n",
       "      <td>0.0</td>\n",
       "      <td>0.000000</td>\n",
       "      <td>0.000000</td>\n",
       "      <td>0.0</td>\n",
       "      <td>0.0</td>\n",
       "      <td>0.000000</td>\n",
       "    </tr>\n",
       "    <tr>\n",
       "      <th>2</th>\n",
       "      <td>30</td>\n",
       "      <td>Day of Defeat</td>\n",
       "      <td>Valve</td>\n",
       "      <td>Valve</td>\n",
       "      <td>4881</td>\n",
       "      <td>542</td>\n",
       "      <td>0</td>\n",
       "      <td>5,000,000 .. 10,000,000</td>\n",
       "      <td>403</td>\n",
       "      <td>0</td>\n",
       "      <td>...</td>\n",
       "      <td>0.0</td>\n",
       "      <td>0.0</td>\n",
       "      <td>0.0</td>\n",
       "      <td>0.0</td>\n",
       "      <td>0.0</td>\n",
       "      <td>0.015287</td>\n",
       "      <td>0.313376</td>\n",
       "      <td>0.0</td>\n",
       "      <td>0.0</td>\n",
       "      <td>0.000000</td>\n",
       "    </tr>\n",
       "    <tr>\n",
       "      <th>3</th>\n",
       "      <td>40</td>\n",
       "      <td>Deathmatch Classic</td>\n",
       "      <td>Valve</td>\n",
       "      <td>Valve</td>\n",
       "      <td>1791</td>\n",
       "      <td>402</td>\n",
       "      <td>0</td>\n",
       "      <td>5,000,000 .. 10,000,000</td>\n",
       "      <td>33</td>\n",
       "      <td>0</td>\n",
       "      <td>...</td>\n",
       "      <td>0.0</td>\n",
       "      <td>0.0</td>\n",
       "      <td>0.0</td>\n",
       "      <td>0.0</td>\n",
       "      <td>0.0</td>\n",
       "      <td>0.000000</td>\n",
       "      <td>0.000000</td>\n",
       "      <td>0.0</td>\n",
       "      <td>0.0</td>\n",
       "      <td>0.000000</td>\n",
       "    </tr>\n",
       "    <tr>\n",
       "      <th>4</th>\n",
       "      <td>50</td>\n",
       "      <td>Half-Life: Opposing Force</td>\n",
       "      <td>Gearbox Software</td>\n",
       "      <td>Valve</td>\n",
       "      <td>12486</td>\n",
       "      <td>633</td>\n",
       "      <td>0</td>\n",
       "      <td>5,000,000 .. 10,000,000</td>\n",
       "      <td>322</td>\n",
       "      <td>0</td>\n",
       "      <td>...</td>\n",
       "      <td>0.0</td>\n",
       "      <td>0.0</td>\n",
       "      <td>0.0</td>\n",
       "      <td>0.0</td>\n",
       "      <td>0.0</td>\n",
       "      <td>0.000000</td>\n",
       "      <td>0.000000</td>\n",
       "      <td>0.0</td>\n",
       "      <td>0.0</td>\n",
       "      <td>0.000000</td>\n",
       "    </tr>\n",
       "  </tbody>\n",
       "</table>\n",
       "<p>5 rows × 473 columns</p>\n",
       "</div>"
      ],
      "text/plain": [
       "   appid                       name         developer publisher  positive  \\\n",
       "0     10             Counter-Strike             Valve     Valve    184296   \n",
       "1     20      Team Fortress Classic             Valve     Valve      5232   \n",
       "2     30              Day of Defeat             Valve     Valve      4881   \n",
       "3     40         Deathmatch Classic             Valve     Valve      1791   \n",
       "4     50  Half-Life: Opposing Force  Gearbox Software     Valve     12486   \n",
       "\n",
       "   negative  userscore                    owners  average_forever  \\\n",
       "0      4785          0  10,000,000 .. 20,000,000            11666   \n",
       "1       873          0    2,000,000 .. 5,000,000               91   \n",
       "2       542          0   5,000,000 .. 10,000,000              403   \n",
       "3       402          0   5,000,000 .. 10,000,000               33   \n",
       "4       633          0   5,000,000 .. 10,000,000              322   \n",
       "\n",
       "   average_2weeks  ...  Web Publishing  Well-Written  Werewolves  Western  \\\n",
       "0            1107  ...             0.0           0.0         0.0      0.0   \n",
       "1               0  ...             0.0           0.0         0.0      0.0   \n",
       "2               0  ...             0.0           0.0         0.0      0.0   \n",
       "3               0  ...             0.0           0.0         0.0      0.0   \n",
       "4               0  ...             0.0           0.0         0.0      0.0   \n",
       "\n",
       "  Word Game  World War I  World War II  Wrestling  Zombies  e-sports  \n",
       "0       0.0     0.000000      0.000000        0.0      0.0  0.217837  \n",
       "1       0.0     0.000000      0.000000        0.0      0.0  0.000000  \n",
       "2       0.0     0.015287      0.313376        0.0      0.0  0.000000  \n",
       "3       0.0     0.000000      0.000000        0.0      0.0  0.000000  \n",
       "4       0.0     0.000000      0.000000        0.0      0.0  0.000000  \n",
       "\n",
       "[5 rows x 473 columns]"
      ]
     },
     "execution_count": 2,
     "metadata": {},
     "output_type": "execute_result"
    }
   ],
   "source": [
    "games = pd.concat([pd.read_csv('../data/steam_games_cleaned_1.csv'), pd.read_csv('../data/steam_games_cleaned_2.csv'), pd.read_csv('../data/steam_games_cleaned_3.csv')], axis=0).drop('Unnamed: 0', axis=1)\n",
    "print(games.shape)\n",
    "games.head()"
   ]
  },
  {
   "cell_type": "code",
   "execution_count": 3,
   "id": "ab89b520-7152-4606-a4cf-b484b2995449",
   "metadata": {},
   "outputs": [],
   "source": [
    "games.set_index('name', inplace=True)"
   ]
  },
  {
   "cell_type": "code",
   "execution_count": 4,
   "id": "dd56b883-dc54-4d09-9ed4-4ab7774be0f3",
   "metadata": {},
   "outputs": [
    {
     "data": {
      "text/plain": [
       "1.0    48315\n",
       "0.0     8463\n",
       "Name: has_tag, dtype: int64"
      ]
     },
     "execution_count": 4,
     "metadata": {},
     "output_type": "execute_result"
    }
   ],
   "source": [
    "games['has_tag'] = [games.iloc[i,42:].values.max() for i in range(len(games))]\n",
    "games['has_tag'].value_counts()"
   ]
  },
  {
   "cell_type": "code",
   "execution_count": 8,
   "id": "426fceac-ffa5-4eb0-ab6a-b55cf9173e58",
   "metadata": {},
   "outputs": [
    {
     "name": "stdout",
     "output_type": "stream",
     "text": [
      "Wall time: 4min 44s\n"
     ]
    }
   ],
   "source": [
    "%%time\n",
    "# index = 20000\n",
    "# index_title = games[games['has_tag'] == 1].iloc[index-1:index].index[0]\n",
    "recommender = games[games['has_tag'] == 1].loc[ : , 'Action' : 'e-sports']\n",
    "sparse_rec = sparse.csr_matrix(recommender)\n",
    "dists = pairwise_distances(sparse_rec, metric='cosine')\n",
    "#simils = cosine_similarity(sparse_rec)\n",
    "recommender_df = pd.DataFrame(dists, columns=recommender.index, index=recommender.index)"
   ]
  },
  {
   "cell_type": "code",
   "execution_count": 9,
   "id": "7a491692-717f-4123-902d-92d23d379691",
   "metadata": {},
   "outputs": [
    {
     "data": {
      "text/plain": [
       "(48315, 48315)"
      ]
     },
     "execution_count": 9,
     "metadata": {},
     "output_type": "execute_result"
    }
   ],
   "source": [
    "recommender_df.shape"
   ]
  },
  {
   "cell_type": "code",
   "execution_count": 10,
   "id": "952f5368-36c9-4fa2-8df2-8ab51b29d4b6",
   "metadata": {},
   "outputs": [
    {
     "name": "stdout",
     "output_type": "stream",
     "text": [
      "Index(['Beat Hazard', 'Beat Hazard 2'], dtype='object', name='name')\n"
     ]
    }
   ],
   "source": [
    "search = 'Beat Hazard'\n",
    "titles = recommender[recommender.index.str.contains(search)].index\n",
    "print(titles)"
   ]
  },
  {
   "cell_type": "code",
   "execution_count": 20,
   "id": "1db7c1d4-6dfc-46db-b272-ab218db1f095",
   "metadata": {},
   "outputs": [
    {
     "data": {
      "text/html": [
       "<div>\n",
       "<style scoped>\n",
       "    .dataframe tbody tr th:only-of-type {\n",
       "        vertical-align: middle;\n",
       "    }\n",
       "\n",
       "    .dataframe tbody tr th {\n",
       "        vertical-align: top;\n",
       "    }\n",
       "\n",
       "    .dataframe thead th {\n",
       "        text-align: right;\n",
       "    }\n",
       "</style>\n",
       "<table border=\"1\" class=\"dataframe\">\n",
       "  <thead>\n",
       "    <tr style=\"text-align: right;\">\n",
       "      <th></th>\n",
       "      <th>Beat Hazard</th>\n",
       "    </tr>\n",
       "    <tr>\n",
       "      <th>name</th>\n",
       "      <th></th>\n",
       "    </tr>\n",
       "  </thead>\n",
       "  <tbody>\n",
       "    <tr>\n",
       "      <th>Symphony</th>\n",
       "      <td>0.099637</td>\n",
       "    </tr>\n",
       "    <tr>\n",
       "      <th>Beat Hazard 2</th>\n",
       "      <td>0.133285</td>\n",
       "    </tr>\n",
       "    <tr>\n",
       "      <th>Bullet Beat: Musical Shoot'em up</th>\n",
       "      <td>0.192314</td>\n",
       "    </tr>\n",
       "    <tr>\n",
       "      <th>AudioSurf</th>\n",
       "      <td>0.206729</td>\n",
       "    </tr>\n",
       "    <tr>\n",
       "      <th>Audiosurf 2</th>\n",
       "      <td>0.227873</td>\n",
       "    </tr>\n",
       "    <tr>\n",
       "      <th>The Polynomial - Space of the music</th>\n",
       "      <td>0.231299</td>\n",
       "    </tr>\n",
       "  </tbody>\n",
       "</table>\n",
       "</div>"
      ],
      "text/plain": [
       "                                     Beat Hazard\n",
       "name                                            \n",
       "Symphony                                0.099637\n",
       "Beat Hazard 2                           0.133285\n",
       "Bullet Beat: Musical Shoot'em up        0.192314\n",
       "AudioSurf                               0.206729\n",
       "Audiosurf 2                             0.227873\n",
       "The Polynomial - Space of the music     0.231299"
      ]
     },
     "execution_count": 20,
     "metadata": {},
     "output_type": "execute_result"
    }
   ],
   "source": [
    "top_recommendations = recommender_df[search].sort_values()[1:21]\n",
    "top_recs_df = pd.DataFrame(top_recommendations)\n",
    "# top_recs_df['Genre'] = [games['genre'].loc[game] for game in top_recs_df.index]\n",
    "# top_recs_df['Avg. Players (2 weeks)'] = [games['average_2weeks'].loc[game] for game in top_recs_df.index]\n",
    "# top_recs_df['userscore'] = [games['userscore'].loc[game] for game in top_recs_df.index]\n",
    "top_recs_df[top_recs_df[search] < 0.25]"
   ]
  },
  {
   "cell_type": "code",
   "execution_count": 36,
   "id": "f845c846-466e-45f9-a24b-f01fbfc12c81",
   "metadata": {},
   "outputs": [
    {
     "data": {
      "text/plain": [
       "{'Symphony': 0.09963674017408575,\n",
       " 'Beat Hazard 2': 0.13328485536173917,\n",
       " \"Bullet Beat: Musical Shoot'em up\": 0.19231447034971083,\n",
       " 'AudioSurf': 0.20672910454569982,\n",
       " 'Audiosurf 2': 0.22787255420119845,\n",
       " 'The Polynomial - Space of the music': 0.2312993194709675,\n",
       " 'DubWars': 0.25984660024257267,\n",
       " 'Intralism': 0.28438729242185223,\n",
       " 'KickBeat Steam Edition': 0.2908600216739957,\n",
       " 'Frederic: Resurrection of Music': 0.29632407309994135}"
      ]
     },
     "execution_count": 36,
     "metadata": {},
     "output_type": "execute_result"
    }
   ],
   "source": [
    "dict(recommender_df[search].sort_values()[1:11])"
   ]
  },
  {
   "cell_type": "code",
   "execution_count": 38,
   "id": "33860824-af53-487a-a2f7-e51c1871b769",
   "metadata": {},
   "outputs": [
    {
     "ename": "IndentationError",
     "evalue": "unexpected indent (<ipython-input-38-347c5484a286>, line 2)",
     "output_type": "error",
     "traceback": [
      "\u001b[1;36m  File \u001b[1;32m\"<ipython-input-38-347c5484a286>\"\u001b[1;36m, line \u001b[1;32m2\u001b[0m\n\u001b[1;33m    for game_index in recommender_df.index:\u001b[0m\n\u001b[1;37m    ^\u001b[0m\n\u001b[1;31mIndentationError\u001b[0m\u001b[1;31m:\u001b[0m unexpected indent\n"
     ]
    }
   ],
   "source": [
    "top_20_dicts = []\n",
    "    for game_index in recommender_df.index:\n",
    "        top_20_dicts.append({game_index : dict(recommender_df[game_index].sort_values()[1:21])})"
   ]
  },
  {
   "cell_type": "code",
   "execution_count": null,
   "id": "b5caedc1-e848-40b2-812e-b151212aebf8",
   "metadata": {},
   "outputs": [],
   "source": []
  }
 ],
 "metadata": {
  "kernelspec": {
   "display_name": "Python 3",
   "language": "python",
   "name": "python3"
  },
  "language_info": {
   "codemirror_mode": {
    "name": "ipython",
    "version": 3
   },
   "file_extension": ".py",
   "mimetype": "text/x-python",
   "name": "python",
   "nbconvert_exporter": "python",
   "pygments_lexer": "ipython3",
   "version": "3.8.8"
  }
 },
 "nbformat": 4,
 "nbformat_minor": 5
}
